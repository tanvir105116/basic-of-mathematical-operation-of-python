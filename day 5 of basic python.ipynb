{
 "cells": [
  {
   "cell_type": "markdown",
   "id": "b13e7e29",
   "metadata": {},
   "source": [
    "# mathmetical operation by python"
   ]
  },
  {
   "cell_type": "code",
   "execution_count": 25,
   "id": "ca55bce0",
   "metadata": {},
   "outputs": [],
   "source": [
    "x=5\n",
    "y=4\n",
    "z=90"
   ]
  },
  {
   "cell_type": "code",
   "execution_count": 31,
   "id": "4556075a",
   "metadata": {},
   "outputs": [
    {
     "data": {
      "text/plain": [
       "9"
      ]
     },
     "execution_count": 31,
     "metadata": {},
     "output_type": "execute_result"
    }
   ],
   "source": [
    "x+y     #addition in python"
   ]
  },
  {
   "cell_type": "code",
   "execution_count": 32,
   "id": "6caf69da",
   "metadata": {},
   "outputs": [
    {
     "data": {
      "text/plain": [
       "1"
      ]
     },
     "execution_count": 32,
     "metadata": {},
     "output_type": "execute_result"
    }
   ],
   "source": [
    "x-y     #subtraction in python\n"
   ]
  },
  {
   "cell_type": "code",
   "execution_count": 33,
   "id": "b4dca44e",
   "metadata": {},
   "outputs": [
    {
     "data": {
      "text/plain": [
       "450"
      ]
     },
     "execution_count": 33,
     "metadata": {},
     "output_type": "execute_result"
    }
   ],
   "source": [
    "x*z    #multipliction in pyython"
   ]
  },
  {
   "cell_type": "code",
   "execution_count": 34,
   "id": "4b50ce8e",
   "metadata": {},
   "outputs": [
    {
     "data": {
      "text/plain": [
       "18.0"
      ]
     },
     "execution_count": 34,
     "metadata": {},
     "output_type": "execute_result"
    }
   ],
   "source": [
    "z/x   #divition in python"
   ]
  },
  {
   "cell_type": "code",
   "execution_count": 35,
   "id": "0d37698c",
   "metadata": {},
   "outputs": [
    {
     "data": {
      "text/plain": [
       "625"
      ]
     },
     "execution_count": 35,
     "metadata": {},
     "output_type": "execute_result"
    }
   ],
   "source": [
    "x**y     #exponentaition in python(power)"
   ]
  },
  {
   "cell_type": "code",
   "execution_count": 36,
   "id": "c1f6929d",
   "metadata": {},
   "outputs": [
    {
     "data": {
      "text/plain": [
       "625"
      ]
     },
     "execution_count": 36,
     "metadata": {},
     "output_type": "execute_result"
    }
   ],
   "source": [
    "5*5*5*5     #checking the exponentiation result"
   ]
  },
  {
   "cell_type": "markdown",
   "id": "e5c97bab",
   "metadata": {},
   "source": [
    "# python identity operation"
   ]
  },
  {
   "cell_type": "code",
   "execution_count": 37,
   "id": "f25acaa7",
   "metadata": {},
   "outputs": [],
   "source": [
    "a=10\n",
    "b=10\n"
   ]
  },
  {
   "cell_type": "code",
   "execution_count": 44,
   "id": "cc77b66f",
   "metadata": {},
   "outputs": [
    {
     "data": {
      "text/plain": [
       "True"
      ]
     },
     "execution_count": 44,
     "metadata": {},
     "output_type": "execute_result"
    }
   ],
   "source": [
    "a is b     #here is deals with memory location and in python less then 4 digit same values are locate in same location.\n",
    "          #thats why we get true in both is and equal equal operation"
   ]
  },
  {
   "cell_type": "code",
   "execution_count": 45,
   "id": "29aece50",
   "metadata": {},
   "outputs": [
    {
     "data": {
      "text/plain": [
       "True"
      ]
     },
     "execution_count": 45,
     "metadata": {},
     "output_type": "execute_result"
    }
   ],
   "source": [
    "a==b     #equal equal deals with the value\n",
    "        #check the id for better understanding\n"
   ]
  },
  {
   "cell_type": "code",
   "execution_count": 48,
   "id": "31bad9bb",
   "metadata": {},
   "outputs": [
    {
     "data": {
      "text/plain": [
       "140704840586312"
      ]
     },
     "execution_count": 48,
     "metadata": {},
     "output_type": "execute_result"
    }
   ],
   "source": [
    "id(a)"
   ]
  },
  {
   "cell_type": "code",
   "execution_count": 49,
   "id": "412493a7",
   "metadata": {},
   "outputs": [
    {
     "data": {
      "text/plain": [
       "140704840586312"
      ]
     },
     "execution_count": 49,
     "metadata": {},
     "output_type": "execute_result"
    }
   ],
   "source": [
    "id(b)"
   ]
  },
  {
   "cell_type": "code",
   "execution_count": 41,
   "id": "b50014f5",
   "metadata": {},
   "outputs": [],
   "source": [
    "c=124378\n",
    "d=124378"
   ]
  },
  {
   "cell_type": "code",
   "execution_count": 46,
   "id": "b8b01cac",
   "metadata": {},
   "outputs": [
    {
     "data": {
      "text/plain": [
       "False"
      ]
     },
     "execution_count": 46,
     "metadata": {},
     "output_type": "execute_result"
    }
   ],
   "source": [
    "c is d  #here the value are same but its contain more than 4 digit so the memory location is not same.so in is operation we get \n",
    "        #false"
   ]
  },
  {
   "cell_type": "code",
   "execution_count": 53,
   "id": "978c2683",
   "metadata": {},
   "outputs": [
    {
     "data": {
      "text/plain": [
       "True"
      ]
     },
     "execution_count": 53,
     "metadata": {},
     "output_type": "execute_result"
    }
   ],
   "source": [
    "c==d   #equal equal deals with only value so we get true\n",
    "         #check the id of c and d\n",
    "    "
   ]
  },
  {
   "cell_type": "code",
   "execution_count": 50,
   "id": "a22c8b4a",
   "metadata": {},
   "outputs": [
    {
     "data": {
      "text/plain": [
       "2788613600336"
      ]
     },
     "execution_count": 50,
     "metadata": {},
     "output_type": "execute_result"
    }
   ],
   "source": [
    "id(c)"
   ]
  },
  {
   "cell_type": "code",
   "execution_count": 51,
   "id": "6d9b2380",
   "metadata": {},
   "outputs": [
    {
     "data": {
      "text/plain": [
       "2788613601776"
      ]
     },
     "execution_count": 51,
     "metadata": {},
     "output_type": "execute_result"
    }
   ],
   "source": [
    "id(d)"
   ]
  },
  {
   "cell_type": "code",
   "execution_count": 55,
   "id": "2fa1eed0",
   "metadata": {},
   "outputs": [
    {
     "data": {
      "text/plain": [
       "True"
      ]
     },
     "execution_count": 55,
     "metadata": {},
     "output_type": "execute_result"
    }
   ],
   "source": [
    "c is not d   #is not works same as is but just in opposite way"
   ]
  },
  {
   "cell_type": "markdown",
   "id": "e1e626ce",
   "metadata": {},
   "source": [
    "# membership operator(in and not in)"
   ]
  },
  {
   "cell_type": "code",
   "execution_count": 56,
   "id": "395cab4f",
   "metadata": {},
   "outputs": [],
   "source": [
    "list1=[1,2,3,4,5,6,7,8]\n"
   ]
  },
  {
   "cell_type": "code",
   "execution_count": 62,
   "id": "8b4634c1",
   "metadata": {},
   "outputs": [
    {
     "data": {
      "text/plain": [
       "True"
      ]
     },
     "execution_count": 62,
     "metadata": {},
     "output_type": "execute_result"
    }
   ],
   "source": [
    "3 in list1      #by in operation we find the value include or not in a list or something"
   ]
  },
  {
   "cell_type": "code",
   "execution_count": 58,
   "id": "f09225d7",
   "metadata": {},
   "outputs": [
    {
     "data": {
      "text/plain": [
       "False"
      ]
     },
     "execution_count": 58,
     "metadata": {},
     "output_type": "execute_result"
    }
   ],
   "source": [
    "10 in list1"
   ]
  },
  {
   "cell_type": "code",
   "execution_count": 59,
   "id": "cddad5e7",
   "metadata": {},
   "outputs": [
    {
     "data": {
      "text/plain": [
       "False"
      ]
     },
     "execution_count": 59,
     "metadata": {},
     "output_type": "execute_result"
    }
   ],
   "source": [
    "7 not in list1  "
   ]
  },
  {
   "cell_type": "code",
   "execution_count": 61,
   "id": "9952dbb4",
   "metadata": {},
   "outputs": [
    {
     "data": {
      "text/plain": [
       "True"
      ]
     },
     "execution_count": 61,
     "metadata": {},
     "output_type": "execute_result"
    }
   ],
   "source": [
    "10 not in list1"
   ]
  },
  {
   "cell_type": "code",
   "execution_count": 65,
   "id": "cd04fbe1",
   "metadata": {},
   "outputs": [
    {
     "data": {
      "text/plain": [
       "True"
      ]
     },
     "execution_count": 65,
     "metadata": {},
     "output_type": "execute_result"
    }
   ],
   "source": [
    "st='tanvir learn python'    #we can use this function also tho find a string\n",
    "'learn' in st"
   ]
  },
  {
   "cell_type": "markdown",
   "id": "f920a9d2",
   "metadata": {},
   "source": [
    "# some extra important operation"
   ]
  },
  {
   "cell_type": "code",
   "execution_count": 68,
   "id": "f72b47a9",
   "metadata": {},
   "outputs": [],
   "source": [
    "v=20\n",
    "v+=3      #v+=3 means v=v+3"
   ]
  },
  {
   "cell_type": "code",
   "execution_count": 67,
   "id": "c2042dfb",
   "metadata": {},
   "outputs": [
    {
     "data": {
      "text/plain": [
       "23"
      ]
     },
     "execution_count": 67,
     "metadata": {},
     "output_type": "execute_result"
    }
   ],
   "source": [
    "v"
   ]
  },
  {
   "cell_type": "code",
   "execution_count": null,
   "id": "923e7047",
   "metadata": {},
   "outputs": [],
   "source": []
  }
 ],
 "metadata": {
  "kernelspec": {
   "display_name": "Python 3 (ipykernel)",
   "language": "python",
   "name": "python3"
  },
  "language_info": {
   "codemirror_mode": {
    "name": "ipython",
    "version": 3
   },
   "file_extension": ".py",
   "mimetype": "text/x-python",
   "name": "python",
   "nbconvert_exporter": "python",
   "pygments_lexer": "ipython3",
   "version": "3.11.5"
  }
 },
 "nbformat": 4,
 "nbformat_minor": 5
}
